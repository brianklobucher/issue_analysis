{
 "cells": [
  {
   "cell_type": "markdown",
   "id": "4f2a3a01-4a42-4863-9b73-19d3e97e9c12",
   "metadata": {},
   "source": [
    "# Regex with Email Address\n",
    "\n",
    "This notebook investigates a regex problem between pandas and cuDF.\n",
    "\n",
    "Pandas appears to evaluate the regex in a more robust manner, whereas cuDF either throws a runtime error or provides a different result.  The issue appears related to the position of \"-\" in a regex set.  Escaping the \"-\" appears to be a workaround, but this is not required according to Python documentation (https://docs.python.org/3/library/re.html).  The preferred solution is to have each library return consistent regex results with each other.\n",
    "\n",
    "This behavior was noticed on RAPIDS 22.04 and 22.06.  Analysis was performed in August 2022."
   ]
  },
  {
   "cell_type": "code",
   "execution_count": 1,
   "id": "889ba98f-4f6d-4fb7-aaf9-8dfa3cd97e7e",
   "metadata": {},
   "outputs": [],
   "source": [
    "import numpy as np\n",
    "import pandas as pd\n",
    "import cudf"
   ]
  },
  {
   "cell_type": "markdown",
   "id": "57af09f6",
   "metadata": {},
   "source": [
    "## Analysis\n",
    "Setup the data for evaluation."
   ]
  },
  {
   "cell_type": "code",
   "execution_count": 2,
   "id": "1600cf6c-95af-408f-9287-5d7308bae2ab",
   "metadata": {},
   "outputs": [],
   "source": [
    "# Create a data set that exercises multiple email address formats.\n",
    "test_data_list = [ \n",
    "    \"john.smith@example.com\", \n",
    "    np.nan, \n",
    "    \"team@domain.com\", \n",
    "    \"junk@example.com\", \n",
    "    \"hithere@whatsup.yo\", \n",
    "    \"hi-there@whatsup.yo\", \n",
    "    \"hithere@whats-up.yo\", \n",
    "    \"hi-there@whats-up.yo\", \n",
    "    \"hi.there@whatsup.yo\", \n",
    "    \"hithere@whats.up.yo\", \n",
    "    \"hi.there@whats.up.yo\",\n",
    "    \"hi_there@whats.up.yo\",\n",
    "    \"hi_there@whats_up.yo\",\n",
    "    ]\n",
    "\n",
    "# Put the data into CPU and GPU series.\n",
    "pd_raw_series = pd.Series( test_data_list)\n",
    "cu_raw_series = cudf.Series( test_data_list)\n",
    "\n",
    "# Remove nan from series data.\n",
    "pd_series = pd_raw_series.dropna()\n",
    "cu_series = cu_raw_series.dropna()\n",
    "\n",
    "# Remove nan from display data.\n",
    "test_data_to_show = [ emailadr for emailadr in test_data_list if str(emailadr) != 'nan']\n"
   ]
  },
  {
   "cell_type": "markdown",
   "id": "17b67b5d",
   "metadata": {},
   "source": [
    "Setup and evaluate regex candidates."
   ]
  },
  {
   "cell_type": "code",
   "execution_count": null,
   "id": "69308302",
   "metadata": {},
   "outputs": [],
   "source": [
    "# Original regex: r\"(^[a-zA-Z0-9_.+-]+@[a-zA-Z0-9-]+\\.[a-zA-Z0-9-.]+$)\"\n",
    "\n",
    "# This list holds multiple regex to evaluate.\n",
    "candidate_regexes = [\n",
    "    r\"(^[a-zA-Z0-9_.+-]+@[a-zA-Z0-9-]+\\.[a-zA-Z0-9-.]+$)\",\n",
    "    r\"(^[a-zA-Z0-9_.+\\-]+@[a-zA-Z0-9\\-]+\\.[a-zA-Z0-9-.]+$)\",\n",
    "    r\"(^[a-zA-Z0-9_+-.]+@[a-zA-Z0-9-.]+\\.[a-zA-Z0-9-.]+$)\",\n",
    "    r\"(^[a-zA-Z0-9_+-.]+@[a-zA-Z0-9\\-.]+\\.[a-zA-Z0-9-.]+$)\",\n",
    "    r\"(^[a-zA-Z0-9_+-.]+@[a-zA-Z0-9.\\-]+\\.[a-zA-Z0-9-.]+$)\",\n",
    "    r\"(^[a-zA-Z0-9_+-.]+@[a-zA-Z0-9-\\.]+\\.[a-zA-Z0-9-.]+$)\",\n",
    "]\n",
    "\n",
    "# Loop through the regex candidates.\n",
    "results_by_data_point_dict = { 'email': test_data_to_show } # collect output for easy viewing.\n",
    "are_regex_results_equal = np.empty( len(candidate_regexes))\n",
    "for ii, my_rgx in enumerate( candidate_regexes):\n",
    "\n",
    "    try:\n",
    "        pd_matches = pd_series.str.match( pat=my_rgx)\n",
    "    except:\n",
    "        print( 'Error running pandas series.')\n",
    "    \n",
    "    try:\n",
    "        cu_matches = cu_series.str.match( pat=my_rgx)\n",
    "    except Exception as e:\n",
    "        # Create value for cu_matches when the error happens.\n",
    "        err_match_value = -1\n",
    "        cu_error_matches = np.empty(pd_matches.size)  # presumes no error for pandas.\n",
    "        cu_error_matches[:] = err_match_value\n",
    "        cu_matches = cudf.Series.from_pandas( cu_error_matches)\n",
    "        \n",
    "        print( e)\n",
    "        print( 'Error running cuDF series.  Setting regex match value to ' + str( err_match_value) + '.')\n",
    "    \n",
    "    this_run_dict = { \n",
    "        f'pd-regex-{ii}': pd_matches,\n",
    "        f'cu-regex-{ii}': cu_matches.to_numpy(),  # put on CPU for display convenience\n",
    "    }\n",
    "    results_by_data_point_dict.update( this_run_dict)\n",
    "    are_regex_results_equal[ii] = pd_matches.equals(cu_matches.to_pandas())\n",
    "\n",
    "# Organize to print nicely.\n",
    "# Show the regex and summary pass/fail\n",
    "rgx_dict = { 'Candidate Regex': candidate_regexes, 'Do Pandas and cuDF Match': (are_regex_results_equal > 0) }\n",
    "pd.set_option( 'display.max_colwidth', None)  # show the entire regex\n",
    "rgx_df = pd.DataFrame.from_dict( rgx_dict)\n",
    "display( rgx_df)\n",
    "\n",
    "# Show the results for each email address data point.\n",
    "results_df = pd.DataFrame.from_dict( results_by_data_point_dict)\n",
    "display( results_df)"
   ]
  }
 ],
 "metadata": {
  "kernelspec": {
   "display_name": "Python 3.9.13 ('rapids-22.06': conda)",
   "language": "python",
   "name": "python3"
  },
  "language_info": {
   "codemirror_mode": {
    "name": "ipython",
    "version": 3
   },
   "file_extension": ".py",
   "mimetype": "text/x-python",
   "name": "python",
   "nbconvert_exporter": "python",
   "pygments_lexer": "ipython3",
   "version": "3.9.13"
  },
  "vscode": {
   "interpreter": {
    "hash": "c9117b5bf7e67b17713f09d5d19984c0ccd9b9f28735671b8f77627a48caf9b0"
   }
  }
 },
 "nbformat": 4,
 "nbformat_minor": 5
}
